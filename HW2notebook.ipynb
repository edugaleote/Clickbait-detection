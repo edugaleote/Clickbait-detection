{
 "cells": [
  {
   "cell_type": "markdown",
   "metadata": {},
   "source": [
    "PROBLEM 1"
   ]
  },
  {
   "cell_type": "code",
   "execution_count": 27,
   "metadata": {},
   "outputs": [],
   "source": [
    "import numpy as np\n",
    "\n",
    "# Function to read data from a file and return a list of lines\n",
    "def read_file(filename):\n",
    "    with open(filename, 'r', encoding='utf-8') as file:\n",
    "        lines = file.readlines()\n",
    "    return lines\n",
    "\n",
    "# Read data from \"clickbait.txt\" and \"not-clickbait.txt\"\n",
    "clickbait_data = read_file(\"clickbait.txt\")\n",
    "not_clickbait_data = read_file(\"not-clickbait.txt\")\n",
    "\n",
    "# Combine the two datasets into a single list\n",
    "combined_data = clickbait_data + not_clickbait_data\n",
    "\n",
    "# Shuffle the combined dataset using numpy.random.shuffle\n",
    "np.random.shuffle(combined_data)"
   ]
  },
  {
   "cell_type": "code",
   "execution_count": 28,
   "metadata": {},
   "outputs": [],
   "source": [
    "# Define the proportions for train, validation, and test datasets\n",
    "train_ratio = 0.72\n",
    "validation_ratio = 0.08\n",
    "test_ratio = 0.20\n",
    "\n",
    "# Calculate the number of samples for each dataset\n",
    "total_samples = len(combined_data)\n",
    "num_train = int(total_samples * train_ratio)\n",
    "num_validation = int(total_samples * validation_ratio)\n",
    "num_test = total_samples - num_train - num_validation\n",
    "\n",
    "# Split the combined_data into train, validation, and test datasets\n",
    "train_data = combined_data[:num_train]\n",
    "validation_data = combined_data[num_train:num_train + num_validation]\n",
    "test_data = combined_data[num_train + num_validation:]\n"
   ]
  },
  {
   "cell_type": "code",
   "execution_count": 29,
   "metadata": {},
   "outputs": [
    {
     "name": "stdout",
     "output_type": "stream",
     "text": [
      "Percentage of Samples from 'clickbait_data' in Train Dataset: 34.58%\n",
      "Percentage of Samples from 'clickbait_data' in Validation Dataset: 35.60%\n",
      "Percentage of Samples from 'clickbait_data' in Test Dataset: 31.80%\n"
     ]
    }
   ],
   "source": [
    "# Convert the \"clickbait_data\" list to a set for faster membership checking\n",
    "clickbait_data_set = set(clickbait_data)\n",
    "\n",
    "# Define a function to calculate the percentage of samples from \"clickbait_data\" in a dataset\n",
    "def calculate_clickbait_data_percentage(dataset):\n",
    "    # Count the number of samples in the dataset that are also in \"clickbait_data\"\n",
    "    dataset_set = set(dataset)\n",
    "    common_samples = dataset_set.intersection(clickbait_data_set)\n",
    "    # Calculate the percentage of samples from \"clickbait_data\" in the dataset\n",
    "    clickbait_data_percentage = (len(common_samples) / len(dataset_set)) * 100\n",
    "    return clickbait_data_percentage\n",
    "\n",
    "# Calculate the percentage of samples from \"clickbait_data\" in each dataset\n",
    "train_clickbait_data_percentage = calculate_clickbait_data_percentage(train_data)\n",
    "validation_clickbait_data_percentage = calculate_clickbait_data_percentage(validation_data)\n",
    "test_clickbait_data_percentage = calculate_clickbait_data_percentage(test_data)\n",
    "\n",
    "# Print the percentages\n",
    "print(f\"Percentage of Samples from 'clickbait_data' in Train Dataset: {train_clickbait_data_percentage:.2f}%\")\n",
    "print(f\"Percentage of Samples from 'clickbait_data' in Validation Dataset: {validation_clickbait_data_percentage:.2f}%\")\n",
    "print(f\"Percentage of Samples from 'clickbait_data' in Test Dataset: {test_clickbait_data_percentage:.2f}%\")\n"
   ]
  },
  {
   "cell_type": "code",
   "execution_count": 30,
   "metadata": {},
   "outputs": [],
   "source": [
    "import pandas as pd\n",
    "df_train=pd.DataFrame(train_data)\n",
    "df_train['clk']=0\n",
    "df_train['clk'] = df_train[0].apply(lambda x: 1 if x in clickbait_data_set else 0)\n",
    "\n",
    "df_test=pd.DataFrame(test_data)\n",
    "df_test['clk']=0\n",
    "df_test['clk'] = df_test[0].apply(lambda x: 1 if x in clickbait_data_set else 0)\n",
    "\n",
    "df_validation=pd.DataFrame(validation_data)\n",
    "df_validation['clk']=0\n",
    "df_validation['clk'] = df_validation[0].apply(lambda x: 1 if x in clickbait_data_set else 0)"
   ]
  },
  {
   "cell_type": "markdown",
   "metadata": {},
   "source": [
    "PROBLEM 3"
   ]
  },
  {
   "cell_type": "code",
   "execution_count": 31,
   "metadata": {},
   "outputs": [
    {
     "data": {
      "text/plain": [
       "Pipeline(steps=[('vectorizer', CountVectorizer(ngram_range=(1, 2))),\n",
       "                ('classifier', MultinomialNB())])"
      ]
     },
     "execution_count": 31,
     "metadata": {},
     "output_type": "execute_result"
    }
   ],
   "source": [
    "from sklearn.feature_extraction.text import CountVectorizer\n",
    "from sklearn.naive_bayes import MultinomialNB\n",
    "from sklearn.pipeline import Pipeline\n",
    "from sklearn.model_selection import train_test_split\n",
    "\n",
    "# Sample data\n",
    "X = df_train[0]\n",
    "y = df_train['clk']\n",
    "\n",
    "# Create a scikit-learn pipeline\n",
    "pipeline = Pipeline([\n",
    "    ('vectorizer', CountVectorizer(ngram_range=(1, 2))),  # Include unigrams and bigrams\n",
    "    ('classifier', MultinomialNB())\n",
    "])\n",
    "\n",
    "# Fit the pipeline on the training set\n",
    "pipeline.fit(X, y)\n"
   ]
  },
  {
   "cell_type": "code",
   "execution_count": 32,
   "metadata": {},
   "outputs": [
    {
     "name": "stdout",
     "output_type": "stream",
     "text": [
      "Training Precision: 1.00\n",
      "Training Recall: 1.00\n",
      "Training F1-Score: 1.00\n",
      "Validation Precision: 0.88\n",
      "Validation Recall: 0.87\n",
      "Validation F1-Score: 0.87\n"
     ]
    }
   ],
   "source": [
    "from sklearn.metrics import precision_score, recall_score, f1_score\n",
    "# Make predictions on the training and validation sets\n",
    "y_train_pred = pipeline.predict(df_train[0])\n",
    "y_valid_pred = pipeline.predict(df_validation[0])\n",
    "\n",
    "# Compute precision, recall, and F1-score for training set\n",
    "precision_train = precision_score(df_train['clk'], y_train_pred, average='binary', pos_label=1)\n",
    "recall_train = recall_score(df_train['clk'], y_train_pred, average='binary', pos_label=1)\n",
    "f1_train = f1_score(df_train['clk'], y_train_pred, average='binary', pos_label=1)\n",
    "\n",
    "# Compute precision, recall, and F1-score for validation set\n",
    "precision_valid = precision_score(df_validation['clk'], y_valid_pred, average='binary', pos_label=1)\n",
    "recall_valid = recall_score(df_validation['clk'], y_valid_pred, average='binary', pos_label=1)\n",
    "f1_valid = f1_score(df_validation['clk'], y_valid_pred, average='binary', pos_label=1)\n",
    "\n",
    "# Print the results\n",
    "print(f\"Training Precision: {precision_train:.2f}\")\n",
    "print(f\"Training Recall: {recall_train:.2f}\")\n",
    "print(f\"Training F1-Score: {f1_train:.2f}\")\n",
    "\n",
    "print(f\"Validation Precision: {precision_valid:.2f}\")\n",
    "print(f\"Validation Recall: {recall_valid:.2f}\")\n",
    "print(f\"Validation F1-Score: {f1_valid:.2f}\")"
   ]
  },
  {
   "cell_type": "markdown",
   "metadata": {},
   "source": [
    "PROBLEM 4"
   ]
  },
  {
   "cell_type": "code",
   "execution_count": 34,
   "metadata": {},
   "outputs": [
    {
     "name": "stdout",
     "output_type": "stream",
     "text": [
      "Parameters: {'classifier__alpha': 0.5, 'vectorizer__max_df': 0.7, 'vectorizer__ngram_range': (1, 1)}\n",
      "Precision: 0.87\n",
      "Recall: 0.90\n",
      "F1-Score: 0.88\n",
      "\n",
      "Parameters: {'classifier__alpha': 0.5, 'vectorizer__max_df': 0.8, 'vectorizer__ngram_range': (1, 1)}\n",
      "Precision: 0.87\n",
      "Recall: 0.90\n",
      "F1-Score: 0.88\n",
      "\n",
      "Parameters: {'classifier__alpha': 0.5, 'vectorizer__max_df': 0.9, 'vectorizer__ngram_range': (1, 1)}\n",
      "Precision: 0.87\n",
      "Recall: 0.90\n",
      "F1-Score: 0.88\n",
      "\n",
      "Parameters: {'classifier__alpha': 1.0, 'vectorizer__max_df': 0.7, 'vectorizer__ngram_range': (1, 1)}\n",
      "Precision: 0.87\n",
      "Recall: 0.90\n",
      "F1-Score: 0.88\n",
      "\n",
      "Parameters: {'classifier__alpha': 1.0, 'vectorizer__max_df': 0.8, 'vectorizer__ngram_range': (1, 1)}\n",
      "Precision: 0.87\n",
      "Recall: 0.90\n",
      "F1-Score: 0.88\n",
      "\n",
      "Parameters: {'classifier__alpha': 0.1, 'vectorizer__max_df': 0.8, 'vectorizer__ngram_range': (1, 1)}\n",
      "Precision: 0.86\n",
      "Recall: 0.84\n",
      "F1-Score: 0.85\n",
      "\n",
      "Parameters: {'classifier__alpha': 0.1, 'vectorizer__max_df': 0.9, 'vectorizer__ngram_range': (1, 1)}\n",
      "Precision: 0.86\n",
      "Recall: 0.84\n",
      "F1-Score: 0.85\n",
      "\n",
      "Parameters: {'classifier__alpha': 0.1, 'vectorizer__max_df': 0.7, 'vectorizer__ngram_range': (1, 2)}\n",
      "Precision: 0.81\n",
      "Recall: 0.82\n",
      "F1-Score: 0.82\n",
      "\n",
      "Parameters: {'classifier__alpha': 0.1, 'vectorizer__max_df': 0.8, 'vectorizer__ngram_range': (1, 2)}\n",
      "Precision: 0.81\n",
      "Recall: 0.82\n",
      "F1-Score: 0.82\n",
      "\n",
      "Parameters: {'classifier__alpha': 0.1, 'vectorizer__max_df': 0.9, 'vectorizer__ngram_range': (1, 2)}\n",
      "Precision: 0.81\n",
      "Recall: 0.82\n",
      "F1-Score: 0.82\n",
      "\n"
     ]
    }
   ],
   "source": [
    "import pandas as pd\n",
    "from sklearn.model_selection import train_test_split, ParameterGrid\n",
    "from sklearn.feature_extraction.text import CountVectorizer\n",
    "from sklearn.naive_bayes import MultinomialNB\n",
    "from sklearn.metrics import precision_score, recall_score, f1_score\n",
    "\n",
    "\n",
    "\n",
    "# Define a parameter grid with varying hyperparameters\n",
    "param_grid = {\n",
    "    'vectorizer__max_df': [0.7, 0.8, 0.9],  # Vary max_df for CountVectorizer\n",
    "    'classifier__alpha': [0.1, 0.5, 1.0],  # Vary alpha for MultinomialNB\n",
    "    'vectorizer__ngram_range': [(1, 1), (1, 2)]  # Vary ngram_range for CountVectorizer\n",
    "}\n",
    "\n",
    "# Initialize an empty dictionary to store results\n",
    "results = {}\n",
    "\n",
    "# Iterate over parameter combinations\n",
    "for params in ParameterGrid(param_grid):\n",
    "    # Create a scikit-learn pipeline with specified hyperparameters\n",
    "    pipeline = Pipeline([\n",
    "        ('vectorizer', CountVectorizer(max_df=params['vectorizer__max_df'], ngram_range=params['vectorizer__ngram_range'])),\n",
    "        ('classifier', MultinomialNB(alpha=params['classifier__alpha']))\n",
    "    ])\n",
    "    \n",
    "    X = df_train[0]\n",
    "    y = df_train['clk']\n",
    "    # Fit the entire pipeline on the training set\n",
    "    pipeline.fit(X, y)\n",
    "    \n",
    "    # Make predictions on the validation set\n",
    "    y_valid_pred = pipeline.predict(df_validation[0])\n",
    "    \n",
    "    # Calculate precision, recall, and F1-score for the validation set\n",
    "    precision = precision_score(df_validation['clk'], y_valid_pred)\n",
    "    recall = recall_score(df_validation['clk'], y_valid_pred)\n",
    "    f1 = f1_score(df_validation['clk'], y_valid_pred)\n",
    "    \n",
    "    # Store the results in the dictionary\n",
    "    results[str(params)] = {'Precision': precision, 'Recall': recall, 'F1-Score': f1}\n",
    "\n",
    "# Print the results, sorting by F1-score\n",
    "sorted_results = sorted(results.items(), key=lambda x: x[1]['F1-Score'], reverse=True)\n",
    "for i, (params, metrics) in enumerate(sorted_results):\n",
    "    if i < 5 or i >= len(sorted_results) - 5:\n",
    "        print(f\"Parameters: {params}\")\n",
    "        print(f\"Precision: {metrics['Precision']:.2f}\")\n",
    "        print(f\"Recall: {metrics['Recall']:.2f}\")\n",
    "        print(f\"F1-Score: {metrics['F1-Score']:.2f}\")\n",
    "        print()\n"
   ]
  },
  {
   "cell_type": "markdown",
   "metadata": {},
   "source": [
    "PROBLEM 5"
   ]
  },
  {
   "cell_type": "code",
   "execution_count": 36,
   "metadata": {},
   "outputs": [
    {
     "name": "stdout",
     "output_type": "stream",
     "text": [
      "Best Model Hyperparameters:\n",
      "{'analyzer': 'word', 'binary': False, 'decode_error': 'strict', 'dtype': <class 'numpy.int64'>, 'encoding': 'utf-8', 'input': 'content', 'lowercase': True, 'max_df': 0.7, 'max_features': None, 'min_df': 1, 'ngram_range': (1, 2), 'preprocessor': None, 'stop_words': None, 'strip_accents': None, 'token_pattern': '(?u)\\\\b\\\\w\\\\w+\\\\b', 'tokenizer': None, 'vocabulary': None}\n",
      "{'alpha': 0.1, 'class_prior': None, 'fit_prior': True}\n",
      "Best F1-Score on Training Set: 1.00\n",
      "\n",
      "Precision on Test Set: 0.88\n",
      "Recall on Test Set: 0.88\n",
      "F1-Score on Test Set: 0.88\n"
     ]
    }
   ],
   "source": [
    "import pandas as pd\n",
    "from sklearn.model_selection import train_test_split, ParameterGrid\n",
    "from sklearn.feature_extraction.text import CountVectorizer\n",
    "from sklearn.naive_bayes import MultinomialNB\n",
    "from sklearn.metrics import precision_score, recall_score, f1_score\n",
    "\n",
    "\n",
    "# Define a parameter grid with varying hyperparameters\n",
    "param_grid = {\n",
    "    'vectorizer__max_df': [0.7, 0.8, 0.9],  # Vary max_df for CountVectorizer\n",
    "    'classifier__alpha': [0.1, 0.5, 1.0],  # Vary alpha for MultinomialNB\n",
    "    'vectorizer__ngram_range': [(1, 1), (1, 2)]  # Vary ngram_range for CountVectorizer\n",
    "}\n",
    "\n",
    "# Initialize variables to keep track of the best model\n",
    "best_model = None\n",
    "best_f1_train = 0.0\n",
    "\n",
    "# Iterate over parameter combinations\n",
    "for params in ParameterGrid(param_grid):\n",
    "    # Create a scikit-learn pipeline with specified hyperparameters\n",
    "    pipeline = Pipeline([\n",
    "        ('vectorizer', CountVectorizer(max_df=params['vectorizer__max_df'], ngram_range=params['vectorizer__ngram_range'])),\n",
    "        ('classifier', MultinomialNB(alpha=params['classifier__alpha']))\n",
    "    ])\n",
    "    \n",
    "    X = df_train[0]\n",
    "    y = df_train['clk']\n",
    "    # Fit the entire pipeline on the training set\n",
    "    pipeline.fit(X, y)\n",
    "    \n",
    "    y_train_pred = pipeline.predict(df_train[0])\n",
    "    \n",
    "    \n",
    "    # Calculate F1-score for the training set\n",
    "    f1_train = f1_score(df_train['clk'], y_train_pred)\n",
    "    \n",
    "    # If the current model has a higher F1-score, update the best model\n",
    "    if f1_train > best_f1_train:\n",
    "        best_f1_train = f1_train\n",
    "        best_model = pipeline\n",
    "\n",
    "# Print the best model's hyperparameters and F1-score on the training set\n",
    "print(\"Best Model Hyperparameters:\")\n",
    "print(best_model.named_steps['vectorizer'].get_params())\n",
    "print(best_model.named_steps['classifier'].get_params())\n",
    "print(f\"Best F1-Score on Training Set: {best_f1_train:.2f}\")\n",
    "\n",
    "# Apply the best model to the test set\n",
    "y_test_pred = best_model.predict(df_test[0])\n",
    "\n",
    "# Compute precision, recall, and F1-score for the test set\n",
    "precision_test = precision_score(df_test['clk'], y_test_pred)\n",
    "recall_test = recall_score(df_test['clk'], y_test_pred)\n",
    "f1_test = f1_score(df_test['clk'], y_test_pred)\n",
    "\n",
    "# Print the results on the test set\n",
    "print(f\"\\nPrecision on Test Set: {precision_test:.2f}\")\n",
    "print(f\"Recall on Test Set: {recall_test:.2f}\")\n",
    "print(f\"F1-Score on Test Set: {f1_test:.2f}\")\n"
   ]
  },
  {
   "cell_type": "markdown",
   "metadata": {},
   "source": [
    "PROBLEM 6"
   ]
  },
  {
   "cell_type": "code",
   "execution_count": 38,
   "metadata": {},
   "outputs": [
    {
     "name": "stdout",
     "output_type": "stream",
     "text": [
      "Top 5 Clickbait Indicators (Unigrams Only):\n",
      "the\n",
      "you\n",
      "to\n",
      "this\n",
      "is\n"
     ]
    }
   ],
   "source": [
    "# Assuming 'best_model' contains your selected Multinomial Naive Bayes model\n",
    "classifier = best_model.named_steps['classifier']\n",
    "vectorizer = best_model.named_steps['vectorizer']\n",
    "\n",
    "# Get feature log probabilities\n",
    "feature_log_probs = classifier.feature_log_prob_\n",
    "\n",
    "# Get the feature names (words)\n",
    "feature_names = vectorizer.get_feature_names()\n",
    "\n",
    "# Filter out bigrams\n",
    "unigrams = [word for word in feature_names if ' ' not in word]\n",
    "\n",
    "# Create a dictionary mapping feature names to their log probabilities\n",
    "word_log_probs = dict(zip(feature_names, feature_log_probs[1]))  # Use index 1 for clickbait class\n",
    "\n",
    "# Sort the words based on log probabilities in descending order\n",
    "sorted_words = sorted(unigrams, key=lambda word: word_log_probs.get(word, 0), reverse=True)\n",
    "\n",
    "# Display the top 5 words\n",
    "top_5_words = sorted_words[:5]\n",
    "print(\"Top 5 Clickbait Indicators (Unigrams Only):\")\n",
    "for word in top_5_words:\n",
    "    print(word)\n"
   ]
  },
  {
   "cell_type": "markdown",
   "metadata": {},
   "source": [
    "PROBLEM 7"
   ]
  },
  {
   "cell_type": "code",
   "execution_count": 39,
   "metadata": {},
   "outputs": [
    {
     "name": "stdout",
     "output_type": "stream",
     "text": [
      "Precision using Regex: 0.44\n",
      "Recall using Regex: 0.79\n",
      "F1-Score using Regex: 0.56\n"
     ]
    }
   ],
   "source": [
    "import re\n",
    "\n",
    "# Assuming 'top_5_words' contains your top 5 keywords\n",
    "top_5_keywords_pattern = r'\\b(?:' + '|'.join(re.escape(word) for word in top_5_words) + r')\\b'\n",
    "\n",
    "# Function to apply the regular expression to a text\n",
    "def detect_clickbait(text):\n",
    "    return bool(re.search(top_5_keywords_pattern, text, flags=re.IGNORECASE))\n",
    "\n",
    "# Apply the function to the test set\n",
    "y_test_pred_regex = df_test[0].apply(detect_clickbait)\n",
    "\n",
    "# Compute precision, recall, and F1-score for the test set\n",
    "precision_regex = precision_score(df_test['clk'], y_test_pred_regex)\n",
    "recall_regex = recall_score(df_test['clk'], y_test_pred_regex)\n",
    "f1_regex = f1_score(df_test['clk'], y_test_pred_regex)\n",
    "\n",
    "# Print the results\n",
    "print(f\"Precision using Regex: {precision_regex:.2f}\")\n",
    "print(f\"Recall using Regex: {recall_regex:.2f}\")\n",
    "print(f\"F1-Score using Regex: {f1_regex:.2f}\")\n"
   ]
  },
  {
   "cell_type": "markdown",
   "metadata": {},
   "source": []
  }
 ],
 "metadata": {
  "kernelspec": {
   "display_name": "base",
   "language": "python",
   "name": "python3"
  },
  "language_info": {
   "codemirror_mode": {
    "name": "ipython",
    "version": 3
   },
   "file_extension": ".py",
   "mimetype": "text/x-python",
   "name": "python",
   "nbconvert_exporter": "python",
   "pygments_lexer": "ipython3",
   "version": "3.9.7"
  },
  "orig_nbformat": 4
 },
 "nbformat": 4,
 "nbformat_minor": 2
}
